{
 "cells": [
  {
   "cell_type": "markdown",
   "id": "d1479dd2",
   "metadata": {},
   "source": [
    "# Homework 3\n",
    "\n",
    "Michael Roper"
   ]
  },
  {
   "cell_type": "markdown",
   "id": "183bc0c6",
   "metadata": {},
   "source": [
    "## Problem 1"
   ]
  },
  {
   "cell_type": "markdown",
   "id": "ffb83921",
   "metadata": {},
   "source": [
    "The following code plots the measured pressure data as a scatter plot."
   ]
  },
  {
   "cell_type": "code",
   "execution_count": 1,
   "id": "687d5362",
   "metadata": {},
   "outputs": [
    {
     "data": {
      "image/png": "[encoded data removed]",
      "text/plain": [
       "<Figure size 432x288 with 1 Axes>"
      ]
     },
     "metadata": {
      "needs_background": "light"
     },
     "output_type": "display_data"
    }
   ],
   "source": [
    "import numpy as np\n",
    "from math import *\n",
    "import matplotlib.pyplot as plt\n",
    "\n",
    "# Initialize measured data storage arrays.\n",
    "x = np.linspace(0, 1, 11)\n",
    "p = [28.1, 34.4, 36.7, 36.9, 36.8, 36.7, 36.5, 35.4, 32.9, 27.7, 17.5]\n",
    "\n",
    "# Plot measured data.\n",
    "plt.scatter(x, p, color='red')\n",
    "plt.xlabel('x1')\n",
    "plt.ylabel('Pressure')\n",
    "plt.legend(['Measured Pressure'], loc=\"lower left\")\n",
    "plt.grid()\n",
    "plt.show()"
   ]
  },
  {
   "cell_type": "markdown",
   "id": "7573b299",
   "metadata": {},
   "source": [
    "The minimization problem is formulated using a sum of squares method for the loss function. That is, each value calculated by the given model is subtracted from the measured value, squared, and summed, as follows (with $x_2 = 1 - x_1$):\n",
    "\n",
    "$$\n",
    "min_A   \\sum_{i=1}^{N=11} \\begin{pmatrix}p_i - x_{1,i}e^{A_{12}\\begin{pmatrix}\\frac{A_{21}(1 - x_{1,i})}{A_{12}x_{1,i} + A_{21}(1 - x_{1,i})}\\end{pmatrix}^2}p^{sat}_{water} - (1 - x_{1,i})e^{A_{21}\\begin{pmatrix}\\frac{A_{12}x_{1,i}}{A_{12}x_{1,i} + A_{21}(1 - x_{1,i})}\\end{pmatrix}^2}p^{sat}_{1, 4 dioxane}\\end{pmatrix}^2\n",
    "$$"
   ]
  },
  {
   "cell_type": "code",
   "execution_count": 2,
   "id": "6f6deb04",
   "metadata": {},
   "outputs": [
    {
     "name": "stdout",
     "output_type": "stream",
     "text": [
      "[1.9576997 1.6897758]\n",
      "0.670233\n"
     ]
    },
    {
     "data": {
      "image/png": "[encoded data removed]",
      "text/plain": [
       "<Figure size 432x288 with 1 Axes>"
      ]
     },
     "metadata": {
      "needs_background": "light"
     },
     "output_type": "display_data"
    },
    {
     "name": "stdout",
     "output_type": "stream",
     "text": [
      "The model fits well with the data:  True\n"
     ]
    }
   ],
   "source": [
    "import torch as t\n",
    "from torch.autograd import Variable\n",
    "import numpy as np\n",
    "from math import *\n",
    "import matplotlib.pyplot as plt\n",
    "from random import random\n",
    "\n",
    "# Calculate saturation pressures with given values and Antoine equation.\n",
    "a = [[8.07131, 1730.63, 233.426], [7.43155, 1554.679, 240.337]]\n",
    "T = 20\n",
    "p_sat_water = 10**(a[0][0] - a[0][1]/(T + a[0][2]))\n",
    "p_sat_dioxane = 10**(a[1][0] - a[1][1]/(T + a[1][2]))\n",
    "\n",
    "# Initialize measured data storage arrays.\n",
    "x = np.linspace(0, 1, 11)\n",
    "p = [28.1, 34.4, 36.7, 36.9, 36.8, 36.7, 36.5, 35.4, 32.9, 27.7, 17.5]\n",
    "\n",
    "# Define variable A.\n",
    "A = Variable(t.tensor([random(), random()]), requires_grad=True)\n",
    "\n",
    "# Define loss function.\n",
    "def compute_loss(x, p, A):\n",
    "    f = t.zeros(len(p))\n",
    "    for i in range(len(p)):\n",
    "        f[i] = (p[i] - x[i]*p_sat_water*t.exp(A[0]*(A[1]*(1 - x[i])/(A[0]*x[i] + A[1]*(1 - x[i])))**2)\n",
    "                - (1 - x[i])*p_sat_dioxane*t.exp(A[1]*(A[0]*x[i]/(A[0]*x[i] + A[1]*(1 - x[i])))**2))**2\n",
    "    return t.sum(f)\n",
    "\n",
    "# Define line search algorithm.\n",
    "def line_search(x, p, A, k):\n",
    "    with t.no_grad():\n",
    "        alpha = 0.001\n",
    "        phi = compute_loss(x, p, A) - alpha*k*t.dot(A.grad, A.grad)\n",
    "        while phi < compute_loss(x, p, A - alpha*A.grad):\n",
    "            alpha = 0.5*alpha\n",
    "            phi = compute_loss(x, p, A) - alpha * k * t.dot(A.grad, A.grad)\n",
    "        return alpha\n",
    "\n",
    "# Perform gradient descent with line search.\n",
    "for j in range(200):\n",
    "    loss = compute_loss(x, p, A)\n",
    "    loss.backward()\n",
    "\n",
    "    alpha = line_search(x, p, A, 0.8)\n",
    "    # alpha = .001\n",
    "\n",
    "    with t.no_grad():\n",
    "        A -= alpha*A.grad\n",
    "        A.grad.zero_()\n",
    "\n",
    "# Print solution and minimum loss.\n",
    "print(A.data.numpy())\n",
    "print(loss.data.numpy())\n",
    "\n",
    "# Calculate pressure with minimization solution for A.\n",
    "soln = A.data.numpy()\n",
    "p_soln = []\n",
    "for i in range(len(x)):\n",
    "    p_soln.append([])\n",
    "    p_soln[i] = x[i] * p_sat_water * exp(\n",
    "        soln[0] * (soln[1] * (1 - x[i]) / (soln[0] * x[i] + soln[1] * (1 - x[i]))) ** 2) + \\\n",
    "                (1 - x[i]) * p_sat_dioxane * exp(\n",
    "        soln[1] * (soln[0] * x[i] / (soln[0] * x[i] + soln[1] * (1 - x[i]))) ** 2)\n",
    "\n",
    "plt.scatter(x, p, color='red')\n",
    "plt.plot(x, p_soln, color='black')\n",
    "plt.xlabel('x1')\n",
    "plt.ylabel('Pressure')\n",
    "plt.legend(['Calculated Pressure', 'Measured Pressure'])\n",
    "plt.grid()\n",
    "plt.show()\n",
    "\n",
    "print('The model fits well with the data: ', np.allclose(p_soln, p, rtol=1e-1))"
   ]
  },
  {
   "cell_type": "markdown",
   "id": "6e2cb293",
   "metadata": {},
   "source": [
    "The minimization solution for $A_{12}$ and $A_{21}$ values were determined to be 1.96 and 1.69, respectively. The plot above shows the measured pressure data (red) and the pressure calculated with this solution (black)."
   ]
  },
  {
   "cell_type": "markdown",
   "id": "bfd40862",
   "metadata": {},
   "source": [
    "## Problem 2"
   ]
  },
  {
   "cell_type": "markdown",
   "id": "119bac66",
   "metadata": {},
   "source": [
    "The following code was written by Thomas Huijskens and adapted for Problem 2."
   ]
  },
  {
   "cell_type": "code",
   "execution_count": 3,
   "id": "319d036f",
   "metadata": {},
   "outputs": [
    {
     "name": "stdout",
     "output_type": "stream",
     "text": [
      "[[-2.69797089 -1.99474486]\n",
      " [ 0.64921962  1.3625639 ]\n",
      " [-2.94786999 -1.14760608]\n",
      " [-0.92805658  1.27485452]\n",
      " [ 0.5065238   0.41858652]\n",
      " [-3.         -1.73843372]\n",
      " [-2.3534579  -0.19625628]\n",
      " [ 1.97301192  0.66943172]\n",
      " [ 0.47677547  0.041483  ]\n",
      " [ 2.36527633 -1.85494437]\n",
      " [ 1.30017418 -0.74319372]\n",
      " [ 1.21395481 -1.54058284]\n",
      " [ 0.18955308  0.43149846]\n",
      " [ 2.2987136  -0.78548625]\n",
      " [-1.39629466 -1.64707576]]\n"
     ]
    }
   ],
   "source": [
    "import sklearn.gaussian_process as gp\n",
    "import numpy as np\n",
    "from scipy.stats import norm\n",
    "from scipy.optimize import minimize\n",
    "\n",
    "\n",
    "def expected_improvement(x, gaussian_process, evaluated_loss, greater_is_better=False, n_params=1):\n",
    "    x_to_predict = x.reshape(-1, n_params)\n",
    "\n",
    "    mu, sigma = gaussian_process.predict(x_to_predict, return_std=True)\n",
    "\n",
    "    if greater_is_better:\n",
    "        loss_optimum = np.max(evaluated_loss)\n",
    "    else:\n",
    "        loss_optimum = np.min(evaluated_loss)\n",
    "\n",
    "    scaling_factor = (-1) ** (not greater_is_better)\n",
    "\n",
    "    # In case sigma equals zero\n",
    "    with np.errstate(divide='ignore'):\n",
    "        Z = scaling_factor * (mu - loss_optimum) / sigma\n",
    "        expected_improvement = scaling_factor * (mu - loss_optimum) * norm.cdf(Z) + sigma * norm.pdf(Z)\n",
    "        expected_improvement[sigma == 0.0] == 0.0\n",
    "\n",
    "    return -1 * expected_improvement\n",
    "\n",
    "\n",
    "def sample_next_hyperparameter(acquisition_func, gaussian_process, evaluated_loss, greater_is_better=False,\n",
    "                               bounds=(0, 10), n_restarts=25):\n",
    "\n",
    "    best_x = None\n",
    "    best_acquisition_value = 1\n",
    "    n_params = bounds.shape[0]\n",
    "\n",
    "    for starting_point in np.random.uniform(bounds[:, 0], bounds[:, 1], size=(n_restarts, n_params)):\n",
    "\n",
    "        res = minimize(fun=acquisition_func,\n",
    "                       x0=starting_point.reshape(1, -1),\n",
    "                       bounds=bounds,\n",
    "                       method='L-BFGS-B',\n",
    "                       args=(gaussian_process, evaluated_loss, greater_is_better, n_params))\n",
    "\n",
    "        if res.fun < best_acquisition_value:\n",
    "            best_acquisition_value = res.fun\n",
    "            best_x = res.x\n",
    "\n",
    "    return best_x\n",
    "\n",
    "\n",
    "def bayesian_optimisation(n_iters, sample_loss, bounds, x0=None, n_pre_samples=5,\n",
    "                          gp_params=None, random_search=False, alpha=1e-5, epsilon=1e-7):\n",
    "\n",
    "    x_list = []\n",
    "    y_list = []\n",
    "\n",
    "    n_params = bounds.shape[0]\n",
    "\n",
    "    if x0 is None:\n",
    "        for params in np.random.uniform(bounds[:, 0], bounds[:, 1], (n_pre_samples, bounds.shape[0])):\n",
    "            x_list.append(params)\n",
    "            y_list.append(sample_loss(params))\n",
    "    else:\n",
    "        for params in x0:\n",
    "            x_list.append(params)\n",
    "            y_list.append(sample_loss(params))\n",
    "\n",
    "    xp = np.array(x_list)\n",
    "    yp = np.array(y_list)\n",
    "\n",
    "    if gp_params is not None:\n",
    "        model = gp.GaussianProcessRegressor(**gp_params)\n",
    "    else:\n",
    "        kernel = gp.kernels.Matern()\n",
    "        model = gp.GaussianProcessRegressor(kernel=kernel,\n",
    "                                            alpha=alpha,\n",
    "                                            n_restarts_optimizer=10,\n",
    "                                            normalize_y=True)\n",
    "\n",
    "    for n in range(n_iters):\n",
    "\n",
    "        model.fit(xp, yp)\n",
    "\n",
    "        if random_search:\n",
    "            x_random = np.random.uniform(bounds[:, 0], bounds[:, 1], size=(random_search, n_params))\n",
    "            ei = -1 * expected_improvement(x_random, model, yp, greater_is_better=True, n_params=n_params)\n",
    "            next_sample = x_random[np.argmax(ei), :]\n",
    "        else:\n",
    "            next_sample = sample_next_hyperparameter(expected_improvement, model, yp, greater_is_better=True, bounds=bounds, n_restarts=100)\n",
    "\n",
    "        if np.any(np.abs(next_sample - xp) <= epsilon):\n",
    "            next_sample = np.random.uniform(bounds[:, 0], bounds[:, 1], bounds.shape[0])\n",
    "\n",
    "        cv_score = sample_loss(next_sample)\n",
    "\n",
    "        x_list.append(next_sample)\n",
    "        y_list.append(cv_score)\n",
    "\n",
    "        xp = np.array(x_list)\n",
    "        yp = np.array(y_list)\n",
    "\n",
    "    return xp, yp\n",
    "\n",
    "\n",
    "x = np.array([[-3, 3], [-2, 2]])\n",
    "\n",
    "\n",
    "def func(z):\n",
    "    return (4 - 2.1*z[0]**2 + (z[0]**4)/3)*z[0]**2 + z[0]*z[1] + (-4 + 4*z[1]**2)*z[1]**2\n",
    "\n",
    "\n",
    "soln = bayesian_optimisation(n_iters=10, sample_loss=func, bounds=x, x0=None, n_pre_samples=5)\n",
    "print(soln[0])"
   ]
  },
  {
   "cell_type": "markdown",
   "id": "55b19e86",
   "metadata": {},
   "source": [
    "The solutions above were determined to be optimal by the Bayesian Optimization algorithm."
   ]
  }
 ],
 "metadata": {
  "kernelspec": {
   "display_name": "Python 3 (ipykernel)",
   "language": "python",
   "name": "python3"
  },
  "language_info": {
   "codemirror_mode": {
    "name": "ipython",
    "version": 3
   },
   "file_extension": ".py",
   "mimetype": "text/x-python",
   "name": "python",
   "nbconvert_exporter": "python",
   "pygments_lexer": "ipython3",
   "version": "3.9.6"
  }
 },
 "nbformat": 4,
 "nbformat_minor": 5
}
