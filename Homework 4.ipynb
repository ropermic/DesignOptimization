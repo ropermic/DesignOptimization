{
 "cells": [
  {
   "cell_type": "markdown",
   "metadata": {},
   "source": [
    "# Homework 4\n",
    "\n",
    "by Michael Roper"
   ]
  },
  {
   "cell_type": "markdown",
   "metadata": {},
   "source": [
    "## Problem 1\n",
    "\n",
    "The problem is sketched graphically in the following code."
   ]
  },
  {
   "cell_type": "code",
   "execution_count": 1,
   "metadata": {
    "scrolled": true
   },
   "outputs": [
    {
     "data": {
      "image/png": "[encoded data removed]",
      "text/plain": [
       "<Figure size 432x288 with 1 Axes>"
      ]
     },
     "metadata": {
      "needs_background": "light"
     },
     "output_type": "display_data"
    }
   ],
   "source": [
    "import numpy as np\n",
    "import matplotlib.pyplot as plt\n",
    "from matplotlib import cm\n",
    "\n",
    "# Define objective function.\n",
    "def obj(v): return (v[0] + 1)**2 + (v[1] - 2)**2\n",
    "\n",
    "# Compute function values.\n",
    "x = [np.linspace(-3, 3, 1000), np.linspace(-3, 3, 1000)]\n",
    "x = np.meshgrid(x[0], x[1])\n",
    "f = obj(x)\n",
    "\n",
    "# Plot contour and shade feasible region based on the following:\n",
    "# g(1) = x(1) <= 2\n",
    "# g(2) = x(2) <= 1\n",
    "# g(3) = x(1) >= 0\n",
    "# g(4) = x(2) >= 0\n",
    "plt.contourf(x[0], x[1], f, cmap=cm.coolwarm)\n",
    "plt.fill([0, 0, 2, 2], [0, 1, 1, 0], 'gray', alpha=0.8)\n",
    "plt.plot(-1, 2, 'wo', markersize=3)\n",
    "plt.plot(0, 1, 'ro', markersize=3)\n",
    "\n",
    "# Plot directions of gradient at corner points of feasible domain.\n",
    "plt.arrow(0, 1, .25, -.25, width=.03, facecolor='black')\n",
    "plt.arrow(0, 1, 0, .25, width=.03, facecolor='white')\n",
    "plt.arrow(0, 1, -.25, 0, width=.03, facecolor='white')\n",
    "\n",
    "plt.arrow(0, 0, .25, -.5, width=.03, facecolor='black')\n",
    "plt.arrow(0, 0, -.25, 0, width=.03, facecolor='white')\n",
    "plt.arrow(0, 0, 0, -.25, width=.03, facecolor='white')\n",
    "\n",
    "plt.arrow(2, 0, .75, -.5, width=.03, facecolor='black')\n",
    "plt.arrow(2, 0, .25, 0, width=.03, facecolor='white')\n",
    "plt.arrow(2, 0, 0, -.25, width=.03, facecolor='white')\n",
    "\n",
    "plt.arrow(2, 1, .75, -.25, width=.03, facecolor='black')\n",
    "plt.arrow(2, 1, 0, .25, width=.03, facecolor='white')\n",
    "plt.arrow(2, 1, .25, 0, width=.03, facecolor='white')\n",
    "\n",
    "# Add labels to axes.\n",
    "plt.xlabel('$x_1$')\n",
    "plt.ylabel('$x_2$')\n",
    "\n",
    "plt.show()"
   ]
  },
  {
   "cell_type": "markdown",
   "metadata": {},
   "source": [
    "The grey region is the feasible domain defined by the given constraints of the problem. The white point denotes the global minimum and the red point represents the local solution. The black arrows indicate the directions of the gradient of $f$ at the corners of the feasible domain.\n",
    "\n",
    "The white arrows indicate the directions of the gradient of $g_i$ at the corners of the feasible domain.\n",
    "\n",
    "$$\n",
    "\\frac{\\partial g_1}{\\partial x} = \\begin{bmatrix}1\\\\0\\end{bmatrix}\n",
    "$$\n",
    "\n",
    "$$\n",
    "\\frac{\\partial g_2}{\\partial x} = \\begin{bmatrix}0\\\\1\\end{bmatrix}\n",
    "$$\n",
    "\n",
    "$$\n",
    "\\frac{\\partial g_3}{\\partial x} = \\begin{bmatrix}-1\\\\0\\end{bmatrix}\n",
    "$$\n",
    "\n",
    "$$\n",
    "\\frac{\\partial g_4}{\\partial x} = \\begin{bmatrix}0\\\\-1\\end{bmatrix}\n",
    "$$\n",
    "\n",
    "The Lagrangian formulation for this problem is\n",
    "\n",
    "$$\n",
    "L = f + \\mu_1g_1 + \\mu_2g_2 + \\mu_3g_3 + \\mu_4g_4 = (x_1 + 1)^2 + (x_2 - 2)^2 + \\mu_1(x_1 - 2) + \\mu_2(x_2 - 1) + \\mu_3(-x_1) + \\mu_4(-x_2)\n",
    "$$\n",
    "\n",
    "$$\n",
    "\\frac{\\partial L}{\\partial x} = \\begin{bmatrix}2(x_1 + 1) + \\mu_1 - \\mu_3\\\\2(x_2 - 2) + \\mu_2 - \\mu_4\\end{bmatrix} = \\begin{bmatrix}0\\\\0\\end{bmatrix}\n",
    "$$\n",
    "\n",
    "The following is true at the graphical optimum $(0,1)$:\n",
    "\n",
    "$$\n",
    "g_2 = 0, g_3 = 0, \\mu_2 > 0, \\mu_3 > 0, \\mu_1 = \\mu_4 = 0\n",
    "$$\n",
    "\n",
    "$$\n",
    "\\begin{bmatrix}2(0 + 1) - \\mu_3\\\\2(1 - 2) + \\mu_2\\end{bmatrix} = \\begin{bmatrix}0\\\\0\\end{bmatrix} \\to \\mu_2 = \\mu_3 = 2 > 0\n",
    "$$\n",
    "\n",
    "Therefore, the KKT conditions are satisfied because $\\frac{\\partial L}{\\partial x} = 0$ and $\\mu_2$ and $\\mu_3$ are greater than zero at $(0,1)$. To verify the second-order optimality conditions,\n",
    "\n",
    "$$\n",
    "L_{xx} = \\begin{bmatrix}2 & 0\\\\0 & 2\\end{bmatrix}\n",
    "$$\n",
    "\n",
    "Because $dx_1 + dx_2 = 0$ and $dx \\neq 0$,\n",
    "\n",
    "$$\n",
    "dx^TL_{xx}dx = 2dx_1^2 + 2dx_2^2 \\leq 0\n",
    "$$\n",
    "\n",
    "since $dx_i^2$ is always greater than zero. Therefore, $(0,1)$ is a local solution."
   ]
  },
  {
   "cell_type": "markdown",
   "metadata": {},
   "source": [
    "## Problem 2\n",
    "\n",
    "The problem is sketched graphically in the following code."
   ]
  },
  {
   "cell_type": "code",
   "execution_count": 2,
   "metadata": {},
   "outputs": [
    {
     "data": {
      "image/png": "[encoded data removed]",
      "text/plain": [
       "<Figure size 432x288 with 1 Axes>"
      ]
     },
     "metadata": {
      "needs_background": "light"
     },
     "output_type": "display_data"
    }
   ],
   "source": [
    "# Define objective function\n",
    "def f(v): return -v[0]\n",
    "\n",
    "# Define constraint functions\n",
    "def g_1(v): return v[1] - (1 - v[0])**3\n",
    "\n",
    "def g_2(v): return -v[1]\n",
    "\n",
    "# Compute function values\n",
    "x = [np.linspace(-10, 10, 1000), np.linspace(-10, 10, 1000)]\n",
    "x_grid = np.meshgrid(x[0], x[1])\n",
    "# f = f(x)\n",
    "\n",
    "plt.contourf(x[0], x[1], f(x_grid), cmap=cm.coolwarm)\n",
    "plt.plot(x[0], (1 - x[0])**3, 'k')\n",
    "plt.fill_between(x[0], (1 - x[0])**3, color='grey', alpha=0.8)\n",
    "plt.plot(x[1], np.zeros(len(x[1])), 'k')\n",
    "plt.plot(1, 0, 'wo', markersize=3)\n",
    "plt.xlim([-10, 1.25])\n",
    "plt.ylim([-10, 10])\n",
    "plt.xlabel('$x_1$')\n",
    "plt.ylabel('$x_2$')\n",
    "plt.show()"
   ]
  },
  {
   "cell_type": "markdown",
   "metadata": {},
   "source": [
    "The grey region is the feasible domain defined by the given constraints of the problem. The optimal solution was determined graphically to be $\\textbf{x} = (1,0)$, represented by the white point on the plot, as this is clearly the minimal solution that satisfies the constraints.\n",
    "\n",
    "The Lagrangian $L$ and its derivative $\\frac{\\partial L}{\\partial x}$ are\n",
    "\n",
    "$$\n",
    "L = -x_1 + \\mu_1(x_2 - (1 - x_1)^3) + \\mu_2(-x_2)\n",
    "$$\n",
    "\n",
    "$$\n",
    "\\frac{\\partial L}{\\partial x} = \\begin{bmatrix}-1 + 3\\mu_1(1 - x_1)^2\\\\\\mu_1 - \\mu_2\\end{bmatrix}\n",
    "$$\n",
    "\n",
    "Using this, the KKT conditions are applied at the point $\\textbf{x} = (1,0)$.\n",
    "\n",
    "1. Setting $\\frac{\\partial L}{\\partial x}$ at the point $\\textbf{x} = (1,0)$ to zero,\n",
    "\n",
    "$$\n",
    "\\begin{bmatrix}-1 + 3\\mu_1(1 - x_1)^2\\\\\\mu_1 - \\mu_2\\end{bmatrix} = \\begin{bmatrix}0\\\\0\\end{bmatrix}\n",
    "$$\n",
    "\n",
    "we end up with\n",
    "\n",
    "$$\n",
    "-1 + 3\\mu_1(1 - 1)^2 = 0 \\to -1 = 0\n",
    "$$\n",
    "\n",
    "Therefore, the KKT conditions are not satisfied at this point although it is an optimal solution. The KKT conditions are neither sufficient nor necessary."
   ]
  },
  {
   "cell_type": "markdown",
   "metadata": {},
   "source": [
    "## Problem 3\n",
    "\n",
    "### Reduced Gradient\n",
    "\n",
    "$m = 1\\\\n = 3\\\\n - m = 2$\n",
    "\n",
    "Choosing $d = \\begin{bmatrix}x_1\\\\x_2\\end{bmatrix}$ and $s = x_3$,\n",
    "\n",
    "$$\n",
    "\\frac{\\partial f}{\\partial d} = \\begin{bmatrix}-x_2 - x_3\\\\-x_1 - x_3\\end{bmatrix}\n",
    "$$\n",
    "\n",
    "$$\n",
    "\\frac{\\partial f}{\\partial s} = -x_2 - x_1\n",
    "$$\n",
    "\n",
    "$$\n",
    "\\frac{\\partial h}{\\partial d} = \\begin{bmatrix}1\\\\1\\end{bmatrix}\n",
    "$$\n",
    "\n",
    "$$\n",
    "\\frac{\\partial h}{\\partial s} = 1\n",
    "$$\n",
    "\n",
    "The reduced gradient is\n",
    "\n",
    "$$\n",
    "\\frac{df}{dd} = \\frac{\\partial f}{\\partial d} - \\frac{\\partial f}{\\partial s}\\left(\\frac{\\partial h}{\\partial s}\\right)^{-1}\\frac{\\partial h}{\\partial d} = \\begin{bmatrix}-x_2 - x_3\\\\-x_1 - x_3\\end{bmatrix} - (-x_2 - x_1)(1^{-1})\\begin{bmatrix}1\\\\1\\end{bmatrix} = \\begin{bmatrix}-x_3 + x_1\\\\-x_3 + x_2\\end{bmatrix}\n",
    "$$\n",
    "\n",
    "Setting the reduced gradient to zero,\n",
    "\n",
    "$$\n",
    "\\begin{bmatrix}-x_3 + x_1\\\\-x_3 + x_2\\end{bmatrix} = \\begin{bmatrix}0\\\\0\\end{bmatrix} \\to x_1 = x_2 = x_3\n",
    "$$\n",
    "\n",
    "Using this solution and the equality constraint $x_1 + x_2 + x_3 - 3 = 0$,\n",
    "\n",
    "$$\n",
    "x_1 + x_1 + x_1 - 3 = 3x_1 - 3 = 0 \\to x_1 = x_2 = x_3 = 1\n",
    "$$"
   ]
  },
  {
   "cell_type": "markdown",
   "metadata": {},
   "source": [
    "### Lagrangian Method\n",
    "\n",
    "The Lagrangian $L$ for this problem is\n",
    "\n",
    "$$\n",
    "L = -x_1x_2 - x_2x_3 - x_1x_3 + \\lambda(x_1 + x_2 + x_3 - 3)\n",
    "$$\n",
    "\n",
    "Setting the gradient to zero,\n",
    "\n",
    "$$\n",
    "\\frac{\\partial L}{\\partial x} = \\begin{bmatrix}-x_2 - x_3 + \\lambda\\\\-x_1 - x_3 + \\lambda\\\\-x_2 - x_1 + \\lambda\\end{bmatrix} = \\begin{bmatrix}0\\\\0\\\\0\\end{bmatrix}\n",
    "$$\n",
    "\n",
    "$$\n",
    "x_1 = x_2 = x_3 = \\frac{\\lambda}{2}\n",
    "$$\n",
    "\n",
    "$$\n",
    "\\frac{\\partial L}{\\partial \\lambda} = x_1 + x_2 + x_3 - 3\n",
    "$$\n",
    "\n",
    "$$\n",
    "\\frac{\\lambda}{2}+\\frac{\\lambda}{2}+\\frac{\\lambda}{2} - 3 = \\frac{3\\lambda}{2} - 3 = 0 \\to \\lambda = 2 > 0\n",
    "$$\n",
    "\n",
    "Therefore, $x_1 = x_2 = x_3 = 1$ and the first-order KKT conditions are satisfied. To verify second-order optimality conditions,\n",
    "\n",
    "$$\n",
    "L_{xx} = \\begin{bmatrix}0 & -1 & -1\\\\-1 & 0 & -1\\\\-1 & -1 & 0\\end{bmatrix}\n",
    "$$\n",
    "\n",
    "and from the constraint $h$,\n",
    "\n",
    "$$\n",
    "dx_2^2 + dx_2dx_3 + dx_3^2 \\geq 0\n",
    "$$\n",
    "\n",
    "This quantity will always be greater than zero for a feasible perturbation ($dx \\neq 0$) because the sum of squares of $dx_2$ and $dx_3$ will always be larger than its product, and $dx_2^2$ and $dx_3^2$ are always positive. Therefore, the second-order KKT conditions are satisfied and $x_1 = x_2 = x_3 = 1$ is a local solution."
   ]
  },
  {
   "cell_type": "markdown",
   "metadata": {},
   "source": [
    "## Problem 4\n",
    "\n",
    "$m = 1\\\\n = 2\\\\n-m = 1$\n",
    "\n",
    "Choosing $d = x_1$ and $s = x_2$, and converting to minimization problem by negating $f$,\n",
    "\n",
    "$$\n",
    "\\frac{\\partial f}{\\partial d} = -2\n",
    "$$\n",
    "\n",
    "$$\n",
    "\\frac{\\partial f}{\\partial s} = -b\n",
    "$$\n",
    "\n",
    "$$\n",
    "\\frac{\\partial h}{\\partial d} = 2x_1\n",
    "$$\n",
    "\n",
    "$$\n",
    "\\frac{\\partial h}{\\partial s} = 2x_2\n",
    "$$\n",
    "\n",
    "The reduced gradient is\n",
    "\n",
    "$$\n",
    "\\frac{df}{dd} = \\frac{\\partial f}{\\partial d} - \\frac{\\partial f}{\\partial s}\\left(\\frac{\\partial h}{\\partial s}\\right)^{-1}\\frac{\\partial h}{\\partial d} = -2 + b(2x_1)^{-1}(2x_2) = -2 + \\frac{x_2}{x_1}b\n",
    "$$\n",
    "\n",
    "Setting the reduced gradient to zero at the point $\\textbf{x} = (1,2)$,\n",
    "\n",
    "$$\n",
    "-2 + \\left(\\frac{2}{1}\\right)b = 0 \\to b = 1\n",
    "$$"
   ]
  },
  {
   "cell_type": "markdown",
   "metadata": {},
   "source": [
    "## Problem 5"
   ]
  },
  {
   "cell_type": "code",
   "execution_count": 3,
   "metadata": {},
   "outputs": [],
   "source": [
    "# Compute f\n",
    "def f(v): return v[0]**2 + v[1]**2 + v[2]**2\n",
    "\n",
    "# Compute h\n",
    "def h(v): return [[v[0]**2/4 + v[1]**2/5 + v[2]**2/25 - 1], [v[0] + v[1] - v[2]]]\n",
    "\n",
    "# Compute dh/ds\n",
    "def dhds(v): return [[2*v[1]/5, 2*v[2]/25], [1, -1]]\n",
    "\n",
    "# Compute norm\n",
    "def norm(v): return [[v[0][0]**2 + v[0][1]**2 + v[0][2]**2], [v[1][0]**2 + v[1][1]**2 + v[1][2]**2]]\n",
    "\n",
    "# Implement Levenberg-Marquardt algorithm\n",
    "def leven_marq(d, s):\n",
    "    x = [[d], [s]]\n",
    "    error = 1e-6\n",
    "    lam = 1e-6\n",
    "    while norm(h(x)) > error:\n",
    "        dh_ds = dhds(x)\n",
    "        s = np.matmul(np.matmul(np.linalg.inv(np.matmul(np.transpose(dh_ds), dh_ds) + lam*np.eye(3)), np.transpose(dh_ds)), h(x))\n",
    "        x = [[d], [s]]"
   ]
  },
  {
   "cell_type": "markdown",
   "metadata": {},
   "source": [
    "I was unable to debug the remainder of my generalized reduced gradient algorithm. I will try to finish and turn it in late."
   ]
  }
 ],
 "metadata": {
  "kernelspec": {
   "display_name": "Python 3 (ipykernel)",
   "language": "python",
   "name": "python3"
  },
  "language_info": {
   "codemirror_mode": {
    "name": "ipython",
    "version": 3
   },
   "file_extension": ".py",
   "mimetype": "text/x-python",
   "name": "python",
   "nbconvert_exporter": "python",
   "pygments_lexer": "ipython3",
   "version": "3.9.6"
  }
 },
 "nbformat": 4,
 "nbformat_minor": 4
}
